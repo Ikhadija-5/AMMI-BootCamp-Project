{
 "cells": [
  {
   "cell_type": "code",
   "execution_count": 2,
   "id": "5bb1225a",
   "metadata": {},
   "outputs": [],
   "source": [
    "import pandas as pd"
   ]
  },
  {
   "cell_type": "code",
   "execution_count": 6,
   "id": "87b2b3fd",
   "metadata": {
    "scrolled": true
   },
   "outputs": [
    {
     "data": {
      "text/html": [
       "<div>\n",
       "<style scoped>\n",
       "    .dataframe tbody tr th:only-of-type {\n",
       "        vertical-align: middle;\n",
       "    }\n",
       "\n",
       "    .dataframe tbody tr th {\n",
       "        vertical-align: top;\n",
       "    }\n",
       "\n",
       "    .dataframe thead th {\n",
       "        text-align: right;\n",
       "    }\n",
       "</style>\n",
       "<table border=\"1\" class=\"dataframe\">\n",
       "  <thead>\n",
       "    <tr style=\"text-align: right;\">\n",
       "      <th></th>\n",
       "      <th>review</th>\n",
       "      <th>sentiment</th>\n",
       "    </tr>\n",
       "  </thead>\n",
       "  <tbody>\n",
       "    <tr>\n",
       "      <th>0</th>\n",
       "      <td>one review ha mention watch 1 Oz episod youll ...</td>\n",
       "      <td>positive</td>\n",
       "    </tr>\n",
       "    <tr>\n",
       "      <th>1</th>\n",
       "      <td>wonder littl product film techniqu veri unassu...</td>\n",
       "      <td>positive</td>\n",
       "    </tr>\n",
       "    <tr>\n",
       "      <th>2</th>\n",
       "      <td>thought thi wa wonder way spend time hot summe...</td>\n",
       "      <td>positive</td>\n",
       "    </tr>\n",
       "    <tr>\n",
       "      <th>3</th>\n",
       "      <td>basic famili littl boy jake think zombi hi clo...</td>\n",
       "      <td>negative</td>\n",
       "    </tr>\n",
       "    <tr>\n",
       "      <th>4</th>\n",
       "      <td>petter mattei love time money visual stun film...</td>\n",
       "      <td>positive</td>\n",
       "    </tr>\n",
       "  </tbody>\n",
       "</table>\n",
       "</div>"
      ],
      "text/plain": [
       "                                              review sentiment\n",
       "0  one review ha mention watch 1 Oz episod youll ...  positive\n",
       "1  wonder littl product film techniqu veri unassu...  positive\n",
       "2  thought thi wa wonder way spend time hot summe...  positive\n",
       "3  basic famili littl boy jake think zombi hi clo...  negative\n",
       "4  petter mattei love time money visual stun film...  positive"
      ]
     },
     "execution_count": 6,
     "metadata": {},
     "output_type": "execute_result"
    }
   ],
   "source": [
    "data_train=pd.read_csv(\"/Users/agishaalbert/Downloads/processed_data1.csv\")\n",
    "\n",
    "data_train.head(5)"
   ]
  },
  {
   "cell_type": "code",
   "execution_count": 11,
   "id": "0e5e3927",
   "metadata": {},
   "outputs": [],
   "source": [
    "sent = pd.Series(np.where(data_train.sentiment.values == 'positive',1,0))"
   ]
  },
  {
   "cell_type": "code",
   "execution_count": 12,
   "id": "bc97bdc4",
   "metadata": {},
   "outputs": [],
   "source": [
    "data_train[\"sentiment\"]=sent"
   ]
  },
  {
   "cell_type": "code",
   "execution_count": 13,
   "id": "a975a25c",
   "metadata": {},
   "outputs": [
    {
     "data": {
      "text/html": [
       "<div>\n",
       "<style scoped>\n",
       "    .dataframe tbody tr th:only-of-type {\n",
       "        vertical-align: middle;\n",
       "    }\n",
       "\n",
       "    .dataframe tbody tr th {\n",
       "        vertical-align: top;\n",
       "    }\n",
       "\n",
       "    .dataframe thead th {\n",
       "        text-align: right;\n",
       "    }\n",
       "</style>\n",
       "<table border=\"1\" class=\"dataframe\">\n",
       "  <thead>\n",
       "    <tr style=\"text-align: right;\">\n",
       "      <th></th>\n",
       "      <th>review</th>\n",
       "      <th>sentiment</th>\n",
       "    </tr>\n",
       "  </thead>\n",
       "  <tbody>\n",
       "    <tr>\n",
       "      <th>0</th>\n",
       "      <td>one review ha mention watch 1 Oz episod youll ...</td>\n",
       "      <td>1</td>\n",
       "    </tr>\n",
       "    <tr>\n",
       "      <th>1</th>\n",
       "      <td>wonder littl product film techniqu veri unassu...</td>\n",
       "      <td>1</td>\n",
       "    </tr>\n",
       "    <tr>\n",
       "      <th>2</th>\n",
       "      <td>thought thi wa wonder way spend time hot summe...</td>\n",
       "      <td>1</td>\n",
       "    </tr>\n",
       "    <tr>\n",
       "      <th>3</th>\n",
       "      <td>basic famili littl boy jake think zombi hi clo...</td>\n",
       "      <td>0</td>\n",
       "    </tr>\n",
       "    <tr>\n",
       "      <th>4</th>\n",
       "      <td>petter mattei love time money visual stun film...</td>\n",
       "      <td>1</td>\n",
       "    </tr>\n",
       "  </tbody>\n",
       "</table>\n",
       "</div>"
      ],
      "text/plain": [
       "                                              review  sentiment\n",
       "0  one review ha mention watch 1 Oz episod youll ...          1\n",
       "1  wonder littl product film techniqu veri unassu...          1\n",
       "2  thought thi wa wonder way spend time hot summe...          1\n",
       "3  basic famili littl boy jake think zombi hi clo...          0\n",
       "4  petter mattei love time money visual stun film...          1"
      ]
     },
     "execution_count": 13,
     "metadata": {},
     "output_type": "execute_result"
    }
   ],
   "source": [
    "data_train.head(5)"
   ]
  },
  {
   "cell_type": "code",
   "execution_count": 17,
   "id": "60a706b7",
   "metadata": {},
   "outputs": [],
   "source": [
    "# def preprocess(data):\n",
    "#     data = convert_lower_case(data)\n",
    "#     data = remove_punctuation(data)\n",
    "#     data = remove_apostrophe(data)\n",
    "#     data = remove_single_characters(data)\n",
    "#     data = convert_numbers(data)\n",
    "#     data = remove_stop_words(data)\n",
    "#     data = stemming(data)\n",
    "#     data = remove_punctuation(data)\n",
    "#     data = convert_numbers(data)"
   ]
  },
  {
   "cell_type": "code",
   "execution_count": 20,
   "id": "daf9f5a4",
   "metadata": {},
   "outputs": [],
   "source": [
    "# DF = {}\n",
    "# for i in range(len(data_train.review)):\n",
    "#     tokens = data_train.review[i]\n",
    "#     for w in tokens:\n",
    "#         try:\n",
    "#             DF[w].add(i)\n",
    "#         except:\n",
    "#             DF[w] = {i}\n",
    "# len(DF)"
   ]
  },
  {
   "cell_type": "code",
   "execution_count": 21,
   "id": "5ce17363",
   "metadata": {},
   "outputs": [],
   "source": [
    "# for i in DF:\n",
    "#     DF[i]=len(DF[i])\n",
    "# len(DF)"
   ]
  },
  {
   "cell_type": "code",
   "execution_count": 23,
   "id": "cfd0ab30",
   "metadata": {},
   "outputs": [],
   "source": [
    "# Input : set of documents\n",
    "# Output: word, dimension number pair for each word as a python dictionary\n",
    "def fit_custom(dataset):\n",
    "  unique_words = []\n",
    "  for row in dataset:\n",
    "    for word in row.split(\" \"):\n",
    "      if len(word)>=2 and word not in unique_words:\n",
    "        unique_words.append(word) # Add each unique word of length>2 to the list\n",
    "  unique_words.sort()\n",
    "  word_dimension_dict = {j:i for i,j in enumerate(unique_words)} # Enumerate the list, i.e., give consecutive numbers to each item, store in a dict\n",
    "  return word_dimension_dict\n",
    "\n",
    "word_dimension_dict = fit_custom(data_train.review)\n",
    "# print(word_dimension_dict)"
   ]
  },
  {
   "cell_type": "code",
   "execution_count": 24,
   "id": "ae7c3185",
   "metadata": {},
   "outputs": [],
   "source": [
    "# Defining an utility Function to calculate the number of times a word appears in a whole dataset\n",
    "def count_of_word_in_whole_dataset(dataset, word):\n",
    "  count = 0\n",
    "  for row in dataset:\n",
    "    if word in row:\n",
    "      count = count+1\n",
    "  return count"
   ]
  },
  {
   "cell_type": "code",
   "execution_count": 25,
   "id": "7261dcc0",
   "metadata": {},
   "outputs": [],
   "source": [
    "# TRANSFROM METHOD\n",
    "# Input : set of documents, word_dimension_dict from fit_custom() ; Output : TF-count_of_word_in_whole_dataset Matrix\n",
    "def transform_custom(dataset, word_dimension_dict):\n",
    "  rows = []\n",
    "  columns = []\n",
    "  values = []\n",
    "  tf_val = []\n",
    "  idf_val = []\n",
    "  for idx, row in enumerate(dataset): # for each document in the dataset\n",
    "    # it will return a dict type object where key is the word and values is its frequency, {word:frequency}\n",
    "    word_freq = dict(Counter(row.split()))\n",
    "    # for every unique word in the document\n",
    "    for word, freq in word_freq.items():\n",
    "      if len(word) < 2:\n",
    "        continue\n",
    "      # we will check if its there in the word_dimension_dictionary that we build in fit_custom() function\n",
    "      # dict.get() function will return the values, if the key doesn't exits it will return -1\n",
    "      col_index = word_dimension_dict.get(word, -1) # retrieving the dimension number of a word\n",
    "      if col_index!=-1:\n",
    "        # we are storing the index of the document\n",
    "        rows.append(idx)\n",
    "        # we are storing the dimensions of the word\n",
    "        columns.append(col_index)\n",
    "        # computes TF value for each word, freq of each word / total words in a document\n",
    "        # computes count_of_word_in_whole_dataset value for each word=log(total no. of docus / no. of times a word is present in a doc via count_of_word_in_whole_dataset()\n",
    "\n",
    "        # Now just multiply TF with count_of_word_in_whole_dataset\n",
    "        # Below formulae to exactly replicate sklearn's formulae for tf-df calculation\n",
    "        # See - https://scikit-learn.org/stable/modules/feature_extraction.html#text-feature-extraction\n",
    "        # If ``smooth_idf=True`` (the default), the constant \"1\" is added to the\n",
    "        # numerator and denominator of the idf as if an extra document was seen\n",
    "        # containing every term in the collection exactly once, which prevents\n",
    "        # zero divisions: idf(t) = log [ (1 + n) / (1 + df(t)) ] + 1.\n",
    "        # https://github.com/scikit-learn/scikit-learn/blob/master/sklearn/feature_extraction/text.py#L1340\n",
    "        tf_idf_value = (freq/len(row.split()))*(1 + (  np.log( (1 + len(dataset) ) / (1 + count_of_word_in_whole_dataset(dataset, word) ))))\n",
    "\n",
    "        # but if smooth_idf=False then the following formulae would have been applied\n",
    "        # val = (freq/len(row.split()))*(1 + (  np.log( (int(len(dataset)) ) / (count_of_word_in_whole_dataset(dataset, word) ))))\n",
    "\n",
    "        values.append(tf_idf_value)\n",
    "\n",
    "        sparse_matrix = csr_matrix((values, (rows,columns)), shape=(len(dataset), len(word_dimension_dict)))\n",
    "\n",
    "        # As noted earlier, in sk-learn this output is normalized using L2 normalization. sklearn does this by default.\n",
    "        # So we have to do that as well to match with sk-learn\n",
    "        # normalize() function will apply ‘l2’, normalization by default\n",
    "        # The 'norm' parameter to use to normalize each non zero sample\n",
    "        # (or each non-zero feature if axis is 0).\n",
    "        # https://scikit-learn.org/stable/modules/preprocessing.html#preprocessing-normalization\n",
    "        final_normalized_output = normalize(sparse_matrix)\n",
    "\n",
    "  return final_normalized_output"
   ]
  },
  {
   "cell_type": "code",
   "execution_count": 30,
   "id": "7ef2573e",
   "metadata": {},
   "outputs": [],
   "source": [
    "from collections import Counter\n",
    "from scipy.sparse import csr_matrix\n",
    "from sklearn.preprocessing import normalize\n",
    "import numpy as np\n",
    "import pandas as pd\n",
    "\n",
    "import matplotlib.pyplot as plt\n",
    "import random\n"
   ]
  },
  {
   "cell_type": "code",
   "execution_count": null,
   "id": "47300a60",
   "metadata": {},
   "outputs": [],
   "source": [
    "tf_idf_vectorized_custom = transform_custom(data_train.review, word_dimension_dict)\n",
    "\n",
    "# As the final output of sklearn tf-idf vectorizer is a sparse matrix to save storage space\n",
    "# To visually understand the output better, we need to convert the sparse output matrix to dense matrix with toarray()\n",
    "print(tf_idf_vectorized_custom.toarray())\n",
    "\n",
    "# Even more clear way to visually inspect the output is to convert it to a pandas dataframe\n",
    "# So below I will convert that to a dataframe and then use todense()\n",
    "custom_tf_idf_output = tf_idf_vectorized_custom[0]\n",
    "df_custom_tf_idf = pd.DataFrame(custom_tf_idf_output.T.todense(),  index=word_dimension_dict.keys(), columns=['tf-idf'])\n",
    "df_custom_tf_idf.sort_values(by=[\"tf-idf\"], ascending=True)\n",
    "df_custom_tf_idf.head(5)\n"
   ]
  },
  {
   "cell_type": "code",
   "execution_count": null,
   "id": "0118ab4b",
   "metadata": {},
   "outputs": [],
   "source": []
  },
  {
   "cell_type": "code",
   "execution_count": null,
   "id": "7633c433",
   "metadata": {},
   "outputs": [],
   "source": []
  },
  {
   "cell_type": "code",
   "execution_count": null,
   "id": "ab89a8d5",
   "metadata": {},
   "outputs": [],
   "source": []
  },
  {
   "cell_type": "code",
   "execution_count": null,
   "id": "6efdfb33",
   "metadata": {},
   "outputs": [],
   "source": []
  },
  {
   "cell_type": "code",
   "execution_count": null,
   "id": "f7995049",
   "metadata": {},
   "outputs": [],
   "source": []
  },
  {
   "cell_type": "code",
   "execution_count": null,
   "id": "2de89ee4",
   "metadata": {},
   "outputs": [],
   "source": []
  },
  {
   "cell_type": "code",
   "execution_count": 1,
   "id": "9426b90c",
   "metadata": {},
   "outputs": [
    {
     "name": "stdout",
     "output_type": "stream",
     "text": [
      "[0.58977016 0.17946483] -0.1520000000000001\n"
     ]
    },
    {
     "data": {
      "image/png": "[encoded data removed]",
      "text/plain": [
       "<Figure size 432x288 with 1 Axes>"
      ]
     },
     "metadata": {
      "needs_background": "light"
     },
     "output_type": "display_data"
    }
   ],
   "source": [
    "import numpy as np\n",
    "\n",
    "\n",
    "class SVM:\n",
    "    def __init__(self, learning_rate=0.001, lambda_param=0.01, n_iters=1000):\n",
    "        self.lr = learning_rate\n",
    "        self.lambda_param = lambda_param\n",
    "        self.n_iters = n_iters\n",
    "        self.w = None\n",
    "        self.b = None\n",
    "\n",
    "    def fit(self, X, y):\n",
    "        n_samples, n_features = X.shape\n",
    "\n",
    "        y_ = np.where(y <= 0, -1, 1)\n",
    "\n",
    "        self.w = np.zeros(n_features)\n",
    "        self.b = 0\n",
    "\n",
    "        for _ in range(self.n_iters):\n",
    "            for idx, x_i in enumerate(X):\n",
    "                condition = y_[idx] * (np.dot(x_i, self.w) - self.b) >= 1\n",
    "                if condition:\n",
    "                    self.w -= self.lr * (2 * self.lambda_param * self.w)\n",
    "                else:\n",
    "                    self.w -= self.lr * (\n",
    "                        2 * self.lambda_param * self.w - np.dot(x_i, y_[idx])\n",
    "                    )\n",
    "                    self.b -= self.lr * y_[idx]\n",
    "\n",
    "    def predict(self, X):\n",
    "        approx = np.dot(X, self.w) - self.b\n",
    "        return np.sign(approx)\n",
    "\n",
    "\n",
    "# Testing\n",
    "if __name__ == \"__main__\":\n",
    "    # Imports\n",
    "    from sklearn import datasets\n",
    "    import matplotlib.pyplot as plt\n",
    "\n",
    "    X, y = datasets.make_blobs(\n",
    "        n_samples=50, n_features=2, centers=2, cluster_std=1.05, random_state=40\n",
    "    )\n",
    "    y = np.where(y == 0, -1, 1)\n",
    "\n",
    "    clf = SVM()\n",
    "    clf.fit(X, y)\n",
    "    # predictions = clf.predict(X)\n",
    "\n",
    "    print(clf.w, clf.b)\n",
    "\n",
    "    def visualize_svm():\n",
    "        def get_hyperplane_value(x, w, b, offset):\n",
    "            return (-w[0] * x + b + offset) / w[1]\n",
    "\n",
    "        fig = plt.figure()\n",
    "        ax = fig.add_subplot(1, 1, 1)\n",
    "        plt.scatter(X[:, 0], X[:, 1], marker=\"o\", c=y)\n",
    "\n",
    "        x0_1 = np.amin(X[:, 0])\n",
    "        x0_2 = np.amax(X[:, 0])\n",
    "\n",
    "        x1_1 = get_hyperplane_value(x0_1, clf.w, clf.b, 0)\n",
    "        x1_2 = get_hyperplane_value(x0_2, clf.w, clf.b, 0)\n",
    "\n",
    "        x1_1_m = get_hyperplane_value(x0_1, clf.w, clf.b, -1)\n",
    "        x1_2_m = get_hyperplane_value(x0_2, clf.w, clf.b, -1)\n",
    "\n",
    "        x1_1_p = get_hyperplane_value(x0_1, clf.w, clf.b, 1)\n",
    "        x1_2_p = get_hyperplane_value(x0_2, clf.w, clf.b, 1)\n",
    "\n",
    "        ax.plot([x0_1, x0_2], [x1_1, x1_2], \"y--\")\n",
    "        ax.plot([x0_1, x0_2], [x1_1_m, x1_2_m], \"k\")\n",
    "        ax.plot([x0_1, x0_2], [x1_1_p, x1_2_p], \"k\")\n",
    "\n",
    "        x1_min = np.amin(X[:, 1])\n",
    "        x1_max = np.amax(X[:, 1])\n",
    "        ax.set_ylim([x1_min - 3, x1_max + 3])\n",
    "\n",
    "        plt.show()\n",
    "\n",
    "    visualize_svm()"
   ]
  },
  {
   "cell_type": "code",
   "execution_count": null,
   "id": "68ff626b",
   "metadata": {},
   "outputs": [],
   "source": []
  },
  {
   "cell_type": "code",
   "execution_count": null,
   "id": "2eba4741",
   "metadata": {},
   "outputs": [],
   "source": []
  },
  {
   "cell_type": "code",
   "execution_count": null,
   "id": "8c05ee79",
   "metadata": {},
   "outputs": [],
   "source": []
  }
 ],
 "metadata": {
  "kernelspec": {
   "display_name": "Python 3.9.7 ('base')",
   "language": "python",
   "name": "python397jvsc74a57bd0bae8018e044975a45579b93bd742bbadde0a1ca9ec0be58203352a0f18bf8317"
  },
  "language_info": {
   "codemirror_mode": {
    "name": "ipython",
    "version": 3
   },
   "file_extension": ".py",
   "mimetype": "text/x-python",
   "name": "python",
   "nbconvert_exporter": "python",
   "pygments_lexer": "ipython3",
   "version": "3.9.7"
  }
 },
 "nbformat": 4,
 "nbformat_minor": 5
}
